{
 "cells": [
  {
   "cell_type": "code",
   "execution_count": null,
   "id": "6b603784",
   "metadata": {},
   "outputs": [],
   "source": [
    "import turtle\n",
    "t = turtle.Turtle()\n",
    "t.speed(0)\n",
    "def tuong_nha(dai, rong, mau, cua_so):\n",
    "    \"\"\"\n",
    "    Hàm này vẽ các mảng tường của ngôi nhà\n",
    "    Đối số truyền vào lần lượt là chiều dài, chiều rộng, màu sắc của tường và cửa sổ\n",
    "    Đối với cửa sổ: 1 là có cửa sổ, 0 là ko có cửa sổ\n",
    "    \"\"\"\n",
    "    #Vẽ tường nhà\n",
    "    t.fillcolor(mau)\n",
    "    t.begin_fill()\n",
    "    t.forward(rong)\n",
    "    t.left(90)\n",
    "    t.forward(dai)\n",
    "    t.left(90)\n",
    "    t.forward(rong)\n",
    "    t.left(90)\n",
    "    t.forward(dai)\n",
    "    t.left(90)\n",
    "    t.forward(rong)\n",
    "    t.end_fill()\n",
    "    #Vẽ cửa sổ\n",
    "    if cua_so == 1:\n",
    "        t.fillcolor(\"white\")        \n",
    "        t.left(90)\n",
    "        t.penup()\n",
    "        t.forward(dai/3)   \n",
    "        t.left(90)\n",
    "        t.forward(rong/3)\n",
    "        t.pendown()\n",
    "        \n",
    "        t.begin_fill()\n",
    "        t.forward(rong/3)\n",
    "        t.right(90)\n",
    "        t.forward(dai/3)  \n",
    "        t.right(90)\n",
    "        t.forward(rong/3)\n",
    "        t.right(90)\n",
    "        t.forward(dai/3)  \n",
    "        t.end_fill()\n",
    "        \n",
    "        t.penup()\n",
    "        t.forward(dai*1/3)\n",
    "        t.left(90)\n",
    "        t.forward(rong/3)\n",
    "        \n",
    "t1 = tuong_nha(120, 90, \"red\", 1)\n",
    "t2 = tuong_nha(120, 90, \"red\", 1)\n",
    "t.goto(0,-120)\n",
    "t3 = tuong_nha(120, 90, \"red\", 1)\n",
    "t4 = tuong_nha(120, 90, \"red\", 1)\n",
    "turtle.done()"
   ]
  }
 ],
 "metadata": {
  "kernelspec": {
   "display_name": "Python 3",
   "language": "python",
   "name": "python3"
  },
  "language_info": {
   "codemirror_mode": {
    "name": "ipython",
    "version": 3
   },
   "file_extension": ".py",
   "mimetype": "text/x-python",
   "name": "python",
   "nbconvert_exporter": "python",
   "pygments_lexer": "ipython3",
   "version": "3.8.8"
  }
 },
 "nbformat": 4,
 "nbformat_minor": 5
}
