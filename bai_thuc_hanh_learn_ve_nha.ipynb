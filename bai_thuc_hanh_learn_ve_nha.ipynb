{
 "cells": [
  {
   "cell_type": "code",
   "execution_count": 1,
   "id": "6b603784",
   "metadata": {},
   "outputs": [],
   "source": [
    "import turtle\n",
    "t = turtle.Turtle()\n",
    "t.speed(0)\n",
    "\n",
    "def square(short,long,color):\n",
    "    \"\"\"Hàm này dùng để vẽ hình vuông\"\"\"\n",
    "    t.fillcolor(color)\n",
    "    t.begin_fill()\n",
    "    for i in range(2):\n",
    "        t.forward(short)\n",
    "        t.left(90)\n",
    "        t.forward(long)\n",
    "        t.left(90)\n",
    "    t.end_fill()\n",
    "    \n",
    "def pen_up(x,y):\n",
    "    \"\"\"Hàm này dùng để di chuyển chuột đến nơi mong muốn mà ko để lại đường vẽ\"\"\"\n",
    "    t.penup()\n",
    "    t.goto(x,y)\n",
    "    t.pendown()\n",
    "    \n",
    "def wall(wall_short,wall_long,window_short, window_long,wall_color,window_color,x,y):\n",
    "    \"\"\"Hàm này dùng để vẽ tường nhà có cửa hoặc cửa sổ\"\"\"\n",
    "    square(wall_short,wall_long,wall_color)\n",
    "    pen_up(t.position()[0]+x,t.position()[1]+y)\n",
    "    square(window_short,window_long,window_color)\n",
    "\n",
    "wall(90,120,30,40,\"red\",\"white\",30,40)\n",
    "pen_up(0,120)\n",
    "wall(90,120,30,40,\"red\",\"white\",30,40)\n",
    "pen_up(90,0)\n",
    "wall(90,120,30,40,\"red\",\"white\",30,40)\n",
    "pen_up(90,120)\n",
    "wall(90,120,30,40,\"red\",\"white\",30,40)\n",
    "pen_up(180,0)\n",
    "wall(90,120,30,80,\"blue\",\"green\",60,0)\n",
    "pen_up(270,0)\n",
    "wall(90,120,30,80,\"blue\",\"green\",0,0)\n",
    "\n",
    "turtle.done()"
   ]
  },
  {
   "cell_type": "code",
   "execution_count": null,
   "id": "97bbe602",
   "metadata": {},
   "outputs": [],
   "source": []
  }
 ],
 "metadata": {
  "kernelspec": {
   "display_name": "Python 3",
   "language": "python",
   "name": "python3"
  },
  "language_info": {
   "codemirror_mode": {
    "name": "ipython",
    "version": 3
   },
   "file_extension": ".py",
   "mimetype": "text/x-python",
   "name": "python",
   "nbconvert_exporter": "python",
   "pygments_lexer": "ipython3",
   "version": "3.8.8"
  }
 },
 "nbformat": 4,
 "nbformat_minor": 5
}
