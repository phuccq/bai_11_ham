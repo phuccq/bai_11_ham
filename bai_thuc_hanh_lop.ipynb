{
 "cells": [
  {
   "cell_type": "code",
   "execution_count": null,
   "id": "d0e57d60",
   "metadata": {},
   "outputs": [],
   "source": [
    "# Tính tổng tất cả các “ước số chẵn” của số nguyên dương n\n",
    "def uoc_so_chan(n):\n",
    "    tong = 0\n",
    "    for i in range(1,n):\n",
    "        if n%i == 0 and i%2 == 0:\n",
    "            tong += i\n",
    "    return tong\n",
    "\n",
    "while True:\n",
    "    try:\n",
    "        n = int(input(\"Nhập vào số nguyên dương n: \"))\n",
    "        if n > 0:\n",
    "            break\n",
    "        else:\n",
    "            print(\"Bạn phải nhập số dương\")\n",
    "    except:\n",
    "        print(\"Bạn phải nhập số nguyên. Hãy nhập lại\")\n",
    "        \n",
    "print(f\"Tổng ước số chẵn của {n} là {uoc_so_chan(n)}\")\n",
    "\n",
    "\n"
   ]
  },
  {
   "cell_type": "code",
   "execution_count": null,
   "id": "6e7e55e9",
   "metadata": {},
   "outputs": [],
   "source": [
    "# - Tìm ước số lẻ lớn nhất của số nguyên dương n. Ví dụ n = 100 ước lẻ lớn nhất là 25\n",
    "def uoc_lon_nhat(n):\n",
    "    max = 0\n",
    "    for i in range(1,n):\n",
    "        if n%i == 0 and i %2 != 0:\n",
    "            if i > max:\n",
    "                max = i\n",
    "    return max\n",
    "\n",
    "while True:\n",
    "    try:\n",
    "        n = int(input(\"Nhập vào số nguyên dương n: \"))\n",
    "        if n > 0:\n",
    "            break\n",
    "        else:\n",
    "            print(\"Bạn phải nhập số dương\")\n",
    "    except:\n",
    "        print(\"Bạn phải nhập số nguyên. Hãy nhập lại\")\n",
    "        \n",
    "print(f\"Ước số lẻ lớn nhất của {n} là {uoc_lon_nhat(n)}\")\n",
    "\n"
   ]
  },
  {
   "cell_type": "code",
   "execution_count": null,
   "id": "b18b11b5",
   "metadata": {},
   "outputs": [],
   "source": [
    "# - Một tờ giấy có độ dày 0.2 mm. Phải gấp đôi tờ giấy bao nhiêu lần để nó có độ dày 1m. Tìm số lần.\n",
    "def gap_giay(do_day_ban_dau):\n",
    "    tong_do_day = 0\n",
    "    so_lan = 0\n",
    "    while tong_do_day < 1000:\n",
    "        tong_do_day = do_day_ban_dau*2\n",
    "        do_day_ban_dau *= 2\n",
    "        so_lan += 1\n",
    "    return so_lan\n",
    "\n",
    "while True:\n",
    "    try:\n",
    "        n = float(input(\"Nhập vào độ dày của tờ giáy (mm): \"))\n",
    "        if n > 0:\n",
    "            break\n",
    "        else:\n",
    "            print(\"Bạn phải nhập số dương\")\n",
    "    except:\n",
    "        print(\"Dữ liệu nhập vào không hợp lệ. Hãy nhập lại\")\n",
    "        \n",
    "print(f\"Tờ giấy có độ giày {n}mm phải gập {gap_giay(n)} lần để có độ dày >= 1m\")\n",
    "\n",
    "\n"
   ]
  },
  {
   "cell_type": "code",
   "execution_count": 8,
   "id": "a8c6faed",
   "metadata": {},
   "outputs": [
    {
     "name": "stdout",
     "output_type": "stream",
     "text": [
      "Phương án 1: 11000đ cần 2 tờ 5.000đ, 0 tờ 2.000đ và 0 tờ 1.000đ\n",
      "Phương án 2: 11000đ cần 2 tờ 5.000đ và 1.0 tờ 1.000đ\n",
      "Phương án 3: 11000đ cần 11000 tờ 1.000đ\n"
     ]
    }
   ],
   "source": [
    "# - Tìm tất cả các phương án kết hợp 3 loại giấy bạc 1000đ, 2000đ, 5000đ với nhau để cho ra số tiền N đ, với N nhập từ bàn phím. \n",
    "# Đưa ra phương án tối ưu ứng với số tờ tiền là ít nhất.\"\n",
    "\n",
    "def tinh_tien(n):\n",
    "    tong = 0\n",
    "    pa = 0\n",
    "    n1 = 0\n",
    "    n2 = 0\n",
    "    n5 = 0\n",
    "    if n // 5000 >= 1:\n",
    "        n5 = n // 5000\n",
    "        if (n - n5 * 5000) // 2000 >= 1:\n",
    "            n2 = (n - n5 * 5000) // 2000\n",
    "            if n-n5*5000-n2*2000 > 0:\n",
    "                n1 = n-n5*5000-n2*2000                \n",
    "    print(f\"Phương án 1: {n}đ cần {n5} tờ 5.000đ, {n2} tờ 2.000đ và {n1} tờ 1.000đ\")\n",
    "    print(f\"Phương án 2: {n}đ cần {n5} tờ 5.000đ và {(n-n5*5000)/1000} tờ 1.000đ\")\n",
    "    print(f\"Phương án 3: {n}đ cần {n} tờ 1.000đ\")\n",
    "\n",
    "tinh_tien(11000)\n",
    "            \n",
    "\n"
   ]
  },
  {
   "cell_type": "code",
   "execution_count": null,
   "id": "892f1530",
   "metadata": {},
   "outputs": [],
   "source": []
  },
  {
   "cell_type": "code",
   "execution_count": null,
   "id": "c0eefb77",
   "metadata": {},
   "outputs": [],
   "source": []
  }
 ],
 "metadata": {
  "kernelspec": {
   "display_name": "Python 3",
   "language": "python",
   "name": "python3"
  },
  "language_info": {
   "codemirror_mode": {
    "name": "ipython",
    "version": 3
   },
   "file_extension": ".py",
   "mimetype": "text/x-python",
   "name": "python",
   "nbconvert_exporter": "python",
   "pygments_lexer": "ipython3",
   "version": "3.8.8"
  }
 },
 "nbformat": 4,
 "nbformat_minor": 5
}
